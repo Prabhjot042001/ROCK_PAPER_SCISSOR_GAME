{
 "cells": [
  {
   "cell_type": "code",
   "execution_count": 3,
   "id": "8309ee19",
   "metadata": {
    "scrolled": true
   },
   "outputs": [
    {
     "name": "stdout",
     "output_type": "stream",
     "text": [
      "640.0\n",
      "480.0\n"
     ]
    }
   ],
   "source": [
    "import numpy as np\n",
    "import cv2\n",
    "\n",
    "cap = cv2.VideoCapture(0)\n",
    "print(cap.get(cv2.CAP_PROP_FRAME_WIDTH))\n",
    "print(cap.get(cv2.CAP_PROP_FRAME_HEIGHT))\n",
    "ret = cap.set(cv2.CAP_PROP_FRAME_HEIGHT,1080)\n",
    "ret = cap.set(cv2.CAP_PROP_FRAME_WIDTH,1080)\n",
    "\n",
    "while(True):\n",
    "    # Capture frame-by-frame\n",
    "    ret, frame = cap.read()\n",
    "    k=cv2.waitKey(1)\n",
    "    cv2.rectangle(frame,(100,100),(500,500),(255,255,255),2)#Drawing the first rectangle for player 1\n",
    "    cv2.rectangle(frame,(800,100),(1200,500),(255,255,255),2)#Drawing the second rectangle for player two\n",
    "    cv2.imshow('frame',frame)\n",
    "    if k%256==32:\n",
    "        img_name1=\"firstplayergesture.png\"\n",
    "        firstp=frame[100:500,100:500]\n",
    "        cv2.imwrite(img_name1,firstp)\n",
    "        secondp=frame[100:500,800:1200]\n",
    "        img_name2=\"secondplayergesture.png\"\n",
    "        cv2.imwrite(img_name2,secondp)\n",
    "          \n",
    "    if cv2.waitKey(1) & 0xFF == ord('q'):\n",
    "        break\n",
    "\n",
    "# When everything done, release the capture\n",
    "cap.release()\n",
    "cv2.destroyAllWindows()"
   ]
  },
  {
   "cell_type": "code",
   "execution_count": 4,
   "id": "421e43fc",
   "metadata": {},
   "outputs": [],
   "source": [
    "#Analysing the images\n",
    "hand= cv2.imread('D:firstplayergesture.png',0)\n",
    "hand1= cv2.imread('D:secondplayergesture.png',0)\n",
    "\n",
    "#To find pixels of the images using thresholding(Converts image to binary)\n",
    "ret, the =cv2.threshold(hand, 70, 255, cv2.THRESH_BINARY)    #(Greyscale img, threshold value, max threshold value, Type of threshold)\n",
    "ret1, the1 =cv2.threshold(hand1,70, 255, cv2.THRESH_BINARY)\n",
    "\n",
    "#To find outer area(Connected pixels) using contour\n",
    "contours, hierarchy = cv2.findContours(the, cv2.RETR_TREE, cv2.CHAIN_APPROX_SIMPLE)  #(Copy of threshold img, finds contours, chains contours)\n",
    "contours1, heirarchy= cv2.findContours(the1, cv2.RETR_TREE, cv2.CHAIN_APPROX_SIMPLE)\n",
    "\n",
    "hull= [cv2.convexHull(c) for c in contours]  #c represents contour\n",
    "hull1= [cv2.convexHull(c) for c in contours1]\n",
    "\n",
    "#To check result we need to draw contour\n",
    "final= cv2.drawContours(hand, hull, -1, (255,0,0))\n",
    "final1= cv2.drawContours(hand1, hull1, -1, (255,0,0))\n",
    "    \n",
    "cv2.imshow('Thresh',the)\n",
    "cv2.imshow('Convex Hull',final)"
   ]
  },
  {
   "cell_type": "code",
   "execution_count": null,
   "id": "c4c0492d",
   "metadata": {},
   "outputs": [],
   "source": []
  }
 ],
 "metadata": {
  "kernelspec": {
   "display_name": "Python 3",
   "language": "python",
   "name": "python3"
  },
  "language_info": {
   "codemirror_mode": {
    "name": "ipython",
    "version": 3
   },
   "file_extension": ".py",
   "mimetype": "text/x-python",
   "name": "python",
   "nbconvert_exporter": "python",
   "pygments_lexer": "ipython3",
   "version": "3.8.8"
  }
 },
 "nbformat": 4,
 "nbformat_minor": 5
}
