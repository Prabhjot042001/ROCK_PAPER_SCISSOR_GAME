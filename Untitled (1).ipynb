{
 "cells": [
  {
   "cell_type": "code",
   "execution_count": 27,
   "metadata": {},
   "outputs": [],
   "source": [
    "import cv2\n",
    "import numpy as np\n",
    "import matplotlib.pyplot as plt\n",
    "import math\n",
    "import time"
   ]
  },
  {
   "cell_type": "code",
   "execution_count": 28,
   "metadata": {},
   "outputs": [],
   "source": [
    "hand=cv2.imread('firstplayergesture.png')"
   ]
  },
  {
   "cell_type": "code",
   "execution_count": 22,
   "metadata": {},
   "outputs": [],
   "source": [
    "cv2.imshow(\"hand\",hand)\n",
    "cv2.waitKey(0)\n",
    "cv2.destroyAllWindows()"
   ]
  },
  {
   "cell_type": "code",
   "execution_count": 29,
   "metadata": {},
   "outputs": [
    {
     "ename": "AttributeError",
     "evalue": "'NoneType' object has no attribute 'shape'",
     "output_type": "error",
     "traceback": [
      "\u001b[1;31m---------------------------------------------------------------------------\u001b[0m",
      "\u001b[1;31mAttributeError\u001b[0m                            Traceback (most recent call last)",
      "\u001b[1;32m<ipython-input-29-2b4a9e7c537c>\u001b[0m in \u001b[0;36m<module>\u001b[1;34m\u001b[0m\n\u001b[0;32m     13\u001b[0m \u001b[0mdefects\u001b[0m \u001b[1;33m=\u001b[0m \u001b[0mcv2\u001b[0m\u001b[1;33m.\u001b[0m\u001b[0mconvexityDefects\u001b[0m\u001b[1;33m(\u001b[0m\u001b[0mcnt\u001b[0m\u001b[1;33m,\u001b[0m\u001b[0mhull\u001b[0m\u001b[1;33m)\u001b[0m\u001b[1;33m\u001b[0m\u001b[1;33m\u001b[0m\u001b[0m\n\u001b[0;32m     14\u001b[0m \u001b[1;33m\u001b[0m\u001b[0m\n\u001b[1;32m---> 15\u001b[1;33m \u001b[1;32mfor\u001b[0m \u001b[0mi\u001b[0m \u001b[1;32min\u001b[0m \u001b[0mrange\u001b[0m\u001b[1;33m(\u001b[0m\u001b[0mdefects\u001b[0m\u001b[1;33m.\u001b[0m\u001b[0mshape\u001b[0m\u001b[1;33m[\u001b[0m\u001b[1;36m0\u001b[0m\u001b[1;33m]\u001b[0m\u001b[1;33m)\u001b[0m\u001b[1;33m:\u001b[0m\u001b[1;33m\u001b[0m\u001b[1;33m\u001b[0m\u001b[0m\n\u001b[0m\u001b[0;32m     16\u001b[0m     \u001b[0ms\u001b[0m\u001b[1;33m,\u001b[0m\u001b[0me\u001b[0m\u001b[1;33m,\u001b[0m\u001b[0mf\u001b[0m\u001b[1;33m,\u001b[0m\u001b[0md\u001b[0m \u001b[1;33m=\u001b[0m \u001b[0mdefects\u001b[0m\u001b[1;33m[\u001b[0m\u001b[0mi\u001b[0m\u001b[1;33m,\u001b[0m\u001b[1;36m0\u001b[0m\u001b[1;33m]\u001b[0m\u001b[1;33m\u001b[0m\u001b[1;33m\u001b[0m\u001b[0m\n\u001b[0;32m     17\u001b[0m     \u001b[0mstart\u001b[0m \u001b[1;33m=\u001b[0m \u001b[0mtuple\u001b[0m\u001b[1;33m(\u001b[0m\u001b[0mcnt\u001b[0m\u001b[1;33m[\u001b[0m\u001b[0ms\u001b[0m\u001b[1;33m]\u001b[0m\u001b[1;33m[\u001b[0m\u001b[1;36m0\u001b[0m\u001b[1;33m]\u001b[0m\u001b[1;33m)\u001b[0m\u001b[1;33m\u001b[0m\u001b[1;33m\u001b[0m\u001b[0m\n",
      "\u001b[1;31mAttributeError\u001b[0m: 'NoneType' object has no attribute 'shape'"
     ]
    }
   ],
   "source": [
    "hsv1=cv2.cvtColor(hand,cv2.COLOR_BGR2HSV)\n",
    "lower_skin=np.array([0,30,60])\n",
    "upper_skin=np.array([20,150,255])\n",
    "first_binary=cv2.inRange(hsv1,lower_skin,upper_skin)#binary image for first player gesture\n",
    "kernel=np.ones((3,3),np.uint8)\n",
    "dilution1=cv2.dilate(first_binary,kernel,iterations=1)\n",
    "erosion1=cv2.erode(dilution1,kernel,iterations=1)\n",
    "ret, thresh = cv2.threshold(erosion1, 127, 255,0)\n",
    "contours,hierarchy = cv2.findContours(thresh,2,1)\n",
    "cnt = contours[0]\n",
    "\n",
    "hull = cv2.convexHull(cnt,returnPoints = False)\n",
    "defects = cv2.convexityDefects(cnt,hull)\n",
    "\n",
    "for i in range(defects.shape[0]):\n",
    "    s,e,f,d = defects[i,0]\n",
    "    start = tuple(cnt[s][0])\n",
    "    end = tuple(cnt[e][0])\n",
    "    far = tuple(cnt[f][0])\n",
    "    cv2.line(hand,start,end,[0,255,0],2)\n",
    "    cv2.circle(hand,far,5,[0,0,255],-1)\n",
    "\n",
    "cv2.imshow('img',hand)\n",
    "cv2.waitKey(0)\n",
    "cv2.destroyAllWindows()"
   ]
  },
  {
   "cell_type": "code",
   "execution_count": 11,
   "metadata": {},
   "outputs": [],
   "source": [
    "cv2.imshow(\"hand\",)\n",
    "cv2.waitKey(0)\n",
    "cv2.destroyAllWindows()"
   ]
  },
  {
   "cell_type": "code",
   "execution_count": null,
   "metadata": {},
   "outputs": [],
   "source": [
    "ret1,the1=cv2.threshold(erosion1,70,255,cv2.THRESH_BINARY)\n",
    "cv2.imshow('threshold',the1)\n",
    "contours, hierarchy = cv2.findContours(the1, cv2.RETR_TREE, cv2.CHAIN_APPROX_SIMPLE)\n",
    "cnt = contours[4]\n",
    "cv2.drawContours(hand,contours, -1, (0,255,0), 3)\n",
    "cv2.imshow('hand',hand)\n",
    "hull = cv2.convexHull(cnt,returnPoints = False)\n",
    "defects = cv2.convexityDefects(cnt,hull)\n",
    "print(type(defects))\n",
    "cv2.waitKey(0)\n",
    "cv2.destroyAllWindows()"
   ]
  },
  {
   "cell_type": "code",
   "execution_count": null,
   "metadata": {},
   "outputs": [],
   "source": [
    "ret, thresh = cv2.threshold(img_gray, 127, 255,0)\n",
    "contours,hierarchy = cv2.findContours(thresh,2,1)\n",
    "cnt = contours[0]\n",
    "\n",
    "hull = cv2.convexHull(cnt,returnPoints = False)\n",
    "defects = cv2.convexityDefects(cnt,hull)\n",
    "\n",
    "for i in range(defects.shape[0]):\n",
    "    s,e,f,d = defects[i,0]\n",
    "    start = tuple(cnt[s][0])\n",
    "    end = tuple(cnt[e][0])\n",
    "    far = tuple(cnt[f][0])\n",
    "    cv2.line(img,start,end,[0,255,0],2)\n",
    "    cv2.circle(img,far,5,[0,0,255],-1)\n",
    "\n",
    "cv2.imshow('img',img)\n",
    "cv2.waitKey(0)\n",
    "cv2.destroyAllWindows()"
   ]
  },
  {
   "cell_type": "code",
   "execution_count": 2,
   "metadata": {},
   "outputs": [],
   "source": [
    "import cv2\n",
    "import numpy as np\n",
    "import math"
   ]
  },
  {
   "cell_type": "code",
   "execution_count": 29,
   "metadata": {},
   "outputs": [
    {
     "name": "stdout",
     "output_type": "stream",
     "text": [
      "[[5]\n",
      " [4]\n",
      " [3]\n",
      " [0]]\n",
      "[[[    5     0     6 31714]]\n",
      "\n",
      " [[    0     3     1 11309]]]\n"
     ]
    }
   ],
   "source": [
    "img=cv2.imread('firstplayergesture.png')\n",
    "hsv1=cv2.cvtColor(img,cv2.COLOR_BGR2HSV)\n",
    "lower_skin=np.array([0,30,60])\n",
    "upper_skin=np.array([20,150,255])\n",
    "binary=cv2.inRange(hsv1,lower_skin,upper_skin)\n",
    "ret1,the=cv2.threshold(binary,70,255,cv2.THRESH_BINARY)\n",
    "contours,hierchy=cv2.findContours(the.copy(),cv2.RETR_TREE,cv2.CHAIN_APPROX_SIMPLE)\n",
    "max_area = -1\n",
    "for i in range(len(contours)):\n",
    "            area = cv2.contourArea(contours[i])\n",
    "            if area>max_area:\n",
    "                cnt = contours[i]\n",
    "                max_area = area\n",
    "                \n",
    "cnt = cv2.approxPolyDP(cnt,0.01*cv2.arcLength(cnt,True),True)\n",
    "hull=cv2.convexHull(cnt,returnPoints=False)\n",
    "print(hull)\n",
    "defects=cv2.convexityDefects(cnt,hull)\n",
    "print(defects)\n",
    "for i in range(defects.shape[0]):\n",
    "    s,e,f,d = defects[i,0]\n",
    "    start = tuple(cnt[s][0])\n",
    "    end = tuple(cnt[e][0])\n",
    "    far = tuple(cnt[f][0])\n",
    "    cv2.line(img,start,end,[0,255,0],2)\n",
    "    cv2.circle(img,far,5,[0,0,255],-1)\n",
    "    \n",
    "cv2.imshow('img',img)\n",
    "cv2.waitKey(0)\n",
    "cv2.destroyAllWindows()\n",
    "\n",
    "#cv2.imshow('binary',the)\n",
    "#cv2.waitKey(0)\n",
    "#cv2.destroyAllWindows()"
   ]
  },
  {
   "cell_type": "code",
   "execution_count": 9,
   "metadata": {},
   "outputs": [
    {
     "name": "stdout",
     "output_type": "stream",
     "text": [
      "[[16]\n",
      " [14]\n",
      " [ 9]\n",
      " [ 8]\n",
      " [ 1]\n",
      " [ 0]]\n",
      "1\n"
     ]
    },
    {
     "data": {
      "text/plain": [
       "-1"
      ]
     },
     "execution_count": 9,
     "metadata": {},
     "output_type": "execute_result"
    }
   ],
   "source": [
    "img=cv2.imread('firstplayergesture.png')\n",
    "hsv1=cv2.cvtColor(img,cv2.COLOR_BGR2HSV)\n",
    "lower_skin=np.array([0,30,60])\n",
    "upper_skin=np.array([20,150,255])\n",
    "binary=cv2.inRange(hsv1,lower_skin,upper_skin)\n",
    "ret1,the=cv2.threshold(binary,70,255,cv2.THRESH_BINARY)\n",
    "cv2.imshow(\"thresholded_image\",the)\n",
    "contours,hierchy=cv2.findContours(the.copy(),cv2.RETR_TREE,cv2.CHAIN_APPROX_SIMPLE)\n",
    "max_area = -1\n",
    "for i in range(len(contours)):\n",
    "            area = cv2.contourArea(contours[i])\n",
    "            if area>max_area:\n",
    "                cnt = contours[i]\n",
    "                max_area = area\n",
    "                \n",
    "cnt = cv2.approxPolyDP(cnt,0.01*cv2.arcLength(cnt,True),True)\n",
    "cv2.drawContours(img, cnt, 0, (0, 255, 0), 3)\n",
    "cv2.imshow(\"contoured_image\",img)\n",
    "hull=cv2.convexHull(cnt,returnPoints=False)\n",
    "print(hull)\n",
    "defects=cv2.convexityDefects(cnt,hull)\n",
    "count_defects=0\n",
    "for i in range(defects.shape[0]):\n",
    "                s, e, f, d = defects[i, 0]\n",
    "                start = tuple(cnt[s][0])\n",
    "                end = tuple(cnt[e][0])\n",
    "                far = tuple(cnt[f][0])\n",
    "                #If the angle of hand is changed\n",
    "                a = math.sqrt((end[0] - start[0]) ** 2 + (end[1] - start[1]) ** 2)\n",
    "                b = math.sqrt((far[0] - start[0]) ** 2 + (far[1] - start[1]) ** 2)\n",
    "                c = math.sqrt((end[0] - far[0]) ** 2 + (end[1] - far[1]) ** 2)\n",
    "                angle = (math.acos((b ** 2 + c ** 2 - a ** 2) / (2 * b * c)) * 180) / 3.14\n",
    "                \n",
    "                if angle <= 90:\n",
    "                    count_defects += 1\n",
    "                    cv2.circle(img, far, 1, [0, 0, 255], -1)\n",
    "                    cv2.line(img, start, end, [0, 255, 0], 2)\n",
    "                    \n",
    "cv2.imshow('image',img)\n",
    "                    \n",
    "print(count_defects)\n",
    "cv2.waitKey(0)"
   ]
  },
  {
   "cell_type": "code",
   "execution_count": null,
   "metadata": {},
   "outputs": [],
   "source": []
  }
 ],
 "metadata": {
  "kernelspec": {
   "display_name": "Python 3",
   "language": "python",
   "name": "python3"
  },
  "language_info": {
   "codemirror_mode": {
    "name": "ipython",
    "version": 3
   },
   "file_extension": ".py",
   "mimetype": "text/x-python",
   "name": "python",
   "nbconvert_exporter": "python",
   "pygments_lexer": "ipython3",
   "version": "3.8.5"
  }
 },
 "nbformat": 4,
 "nbformat_minor": 4
}
